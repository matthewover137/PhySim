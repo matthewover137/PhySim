{
 "cells": [
  {
   "cell_type": "code",
   "execution_count": 43,
   "metadata": {},
   "outputs": [
    {
     "data": {
      "image/png": "[encoded data removed]",
      "text/plain": [
       "<Figure size 640x480 with 1 Axes>"
      ]
     },
     "metadata": {},
     "output_type": "display_data"
    }
   ],
   "source": [
    "import numpy as np\n",
    "import matplotlib.pyplot as plt\n",
    "\n",
    "#rng = np.random.default_rng()\n",
    "\n",
    "A = np.random.normal(0, 1, 100000)\n",
    "fig, ax = plt.subplots()\n",
    "ax.hist(A, bins = 100)\n",
    "plt.show()\n",
    "\n"
   ]
  },
  {
   "cell_type": "code",
   "execution_count": 48,
   "metadata": {},
   "outputs": [
    {
     "data": {
      "text/plain": [
       "(array([[ 0.22981588,  0.06865251,  0.92281431,  0.01880096, -0.47198865],\n",
       "        [ 0.52911368,  0.39358671,  1.42557459, -0.35738196,  0.05090826],\n",
       "        [ 0.7444612 ,  1.81272674, -0.40923403, -0.54028804, -0.78222549],\n",
       "        [ 1.13816213, -1.10184624,  0.24565318, -0.66096227,  0.51063731],\n",
       "        [-1.3368197 ,  0.67334375, -0.97367456,  0.51127992,  0.18052408]]),\n",
       " array([-0.47198865,  0.05090826, -0.78222549,  0.51063731,  0.18052408]))"
      ]
     },
     "execution_count": 48,
     "metadata": {},
     "output_type": "execute_result"
    }
   ],
   "source": [
    "A = np.random.normal(0, 1, (5,5))\n",
    "A ,A[:, -1]"
   ]
  },
  {
   "cell_type": "code",
   "execution_count": 47,
   "metadata": {},
   "outputs": [
    {
     "name": "stdout",
     "output_type": "stream",
     "text": [
      "1\n",
      "2\n",
      "3\n",
      "4\n"
     ]
    }
   ],
   "source": [
    "for x in range(4):\n",
    "    print(x+1)"
   ]
  },
  {
   "cell_type": "code",
   "execution_count": 53,
   "metadata": {},
   "outputs": [
    {
     "name": "stdout",
     "output_type": "stream",
     "text": [
      "Mean: 4\n",
      "fSTD: \n"
     ]
    }
   ],
   "source": [
    "message = 'Mean: ' + str(4) + '\\nfSTD: '\n",
    "print(message)\n"
   ]
  },
  {
   "cell_type": "code",
   "execution_count": 56,
   "metadata": {},
   "outputs": [
    {
     "data": {
      "text/plain": [
       "'3.35'"
      ]
     },
     "execution_count": 56,
     "metadata": {},
     "output_type": "execute_result"
    }
   ],
   "source": [
    "number = 3.3525\n",
    "formatted_number = f\"{number:.2f}\"\n",
    "formatted_number\n"
   ]
  },
  {
   "cell_type": "code",
   "execution_count": 58,
   "metadata": {},
   "outputs": [
    {
     "data": {
      "text/plain": [
       "array([ 1.09118919, -2.3528492 ,  0.61942002, ..., -0.28305146,\n",
       "       -1.15988905,  0.04968053])"
      ]
     },
     "execution_count": 58,
     "metadata": {},
     "output_type": "execute_result"
    }
   ],
   "source": [
    "n= 5000\n",
    "np.random.randn(n)"
   ]
  },
  {
   "cell_type": "code",
   "execution_count": 14,
   "metadata": {},
   "outputs": [
    {
     "data": {
      "text/plain": [
       "(-0.3333333333333334, 0.6666666666666666, 0.3333333333333333)"
      ]
     },
     "execution_count": 14,
     "metadata": {},
     "output_type": "execute_result"
    }
   ],
   "source": [
    "def COMvel(v1,v2,m1,m2):\n",
    "    comVel = (v1*m1 + v2*m2) / (m1 + m2)\n",
    "    v1f = comVel - (v1 - comVel)\n",
    "    v2f = comVel - (v2 - comVel)\n",
    "    return v1f, v2f, comVel\n",
    "COMvel(1, 0, 1, 2)"
   ]
  },
  {
   "cell_type": "code",
   "execution_count": 22,
   "metadata": {},
   "outputs": [
    {
     "data": {
      "text/plain": [
       "array([ 1,  3,  5,  7,  9, 11, 13, 15, 17])"
      ]
     },
     "execution_count": 22,
     "metadata": {},
     "output_type": "execute_result"
    }
   ],
   "source": [
    "import numpy as np\n",
    "np.arange(1, 19, 2)"
   ]
  },
  {
   "cell_type": "code",
   "execution_count": 29,
   "metadata": {},
   "outputs": [
    {
     "data": {
      "text/plain": [
       "array([    0.,   100.,   200.,   300.,   400.,   500.,   600.,   700.,\n",
       "         800.,   900.,  1000.,  1100.,  1200.,  1300.,  1400.,  1500.,\n",
       "        1600.,  1700.,  1800.,  1900.,  2000.,  2100.,  2200.,  2300.,\n",
       "        2400.,  2500.,  2600.,  2700.,  2800.,  2900.,  3000.,  3100.,\n",
       "        3200.,  3300.,  3400.,  3500.,  3600.,  3700.,  3800.,  3900.,\n",
       "        4000.,  4100.,  4200.,  4300.,  4400.,  4500.,  4600.,  4700.,\n",
       "        4800.,  4900.,  5000.,  5100.,  5200.,  5300.,  5400.,  5500.,\n",
       "        5600.,  5700.,  5800.,  5900.,  6000.,  6100.,  6200.,  6300.,\n",
       "        6400.,  6500.,  6600.,  6700.,  6800.,  6900.,  7000.,  7100.,\n",
       "        7200.,  7300.,  7400.,  7500.,  7600.,  7700.,  7800.,  7900.,\n",
       "        8000.,  8100.,  8200.,  8300.,  8400.,  8500.,  8600.,  8700.,\n",
       "        8800.,  8900.,  9000.,  9100.,  9200.,  9300.,  9400.,  9500.,\n",
       "        9600.,  9700.,  9800.,  9900., 10000.])"
      ]
     },
     "execution_count": 29,
     "metadata": {},
     "output_type": "execute_result"
    }
   ],
   "source": [
    "np.linspace(0,10000,101)"
   ]
  },
  {
   "cell_type": "code",
   "execution_count": null,
   "metadata": {},
   "outputs": [],
   "source": []
  }
 ],
 "metadata": {
  "kernelspec": {
   "display_name": "base",
   "language": "python",
   "name": "python3"
  },
  "language_info": {
   "codemirror_mode": {
    "name": "ipython",
    "version": 3
   },
   "file_extension": ".py",
   "mimetype": "text/x-python",
   "name": "python",
   "nbconvert_exporter": "python",
   "pygments_lexer": "ipython3",
   "version": "3.11.5"
  }
 },
 "nbformat": 4,
 "nbformat_minor": 2
}
